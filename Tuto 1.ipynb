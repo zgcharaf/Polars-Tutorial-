{
 "cells": [
  {
   "cell_type": "markdown",
   "id": "419eceb9-86d1-460a-94bc-50d67b3c6684",
   "metadata": {},
   "source": [
    "# Polars Tuto 1 "
   ]
  },
  {
   "cell_type": "code",
   "execution_count": 9,
   "id": "05ee582a-d016-4567-a71e-eba36080a723",
   "metadata": {
    "scrolled": true
   },
   "outputs": [
    {
     "name": "stdout",
     "output_type": "stream",
     "text": [
      "Requirement already satisfied: polars in c:\\programdata\\anaconda3\\lib\\site-packages (0.20.24)\n"
     ]
    },
    {
     "name": "stderr",
     "output_type": "stream",
     "text": [
      "WARNING: Ignoring invalid distribution -atplotlib (c:\\users\\zgcha\\appdata\\roaming\\python\\python39\\site-packages)\n",
      "WARNING: Ignoring invalid distribution -rotobuf (c:\\users\\zgcha\\appdata\\roaming\\python\\python39\\site-packages)\n",
      "WARNING: Ignoring invalid distribution -cipy (c:\\programdata\\anaconda3\\lib\\site-packages)\n",
      "WARNING: Ignoring invalid distribution -atplotlib (c:\\users\\zgcha\\appdata\\roaming\\python\\python39\\site-packages)\n",
      "WARNING: Ignoring invalid distribution -rotobuf (c:\\users\\zgcha\\appdata\\roaming\\python\\python39\\site-packages)\n",
      "WARNING: Ignoring invalid distribution -cipy (c:\\programdata\\anaconda3\\lib\\site-packages)\n"
     ]
    }
   ],
   "source": [
    "!pip install polars"
   ]
  },
  {
   "cell_type": "markdown",
   "id": "622001e8-b87d-4b45-8c5d-f8978966b4aa",
   "metadata": {},
   "source": [
    "# Pourquoi Polars et parquet? "
   ]
  },
  {
   "cell_type": "code",
   "execution_count": 2,
   "id": "b762884f-9e97-4273-967e-2707a7246550",
   "metadata": {
    "collapsed": true,
    "jupyter": {
     "outputs_hidden": true
    }
   },
   "outputs": [
    {
     "ename": "SyntaxError",
     "evalue": "invalid syntax (2080768543.py, line 2)",
     "output_type": "error",
     "traceback": [
      "\u001b[1;36m  Cell \u001b[1;32mIn[2], line 2\u001b[1;36m\u001b[0m\n\u001b[1;33m    EmployeeID, Name, Department, Position, Salary, Hire Date\u001b[0m\n\u001b[1;37m                                                             ^\u001b[0m\n\u001b[1;31mSyntaxError\u001b[0m\u001b[1;31m:\u001b[0m invalid syntax\n"
     ]
    }
   ],
   "source": [
    "# Stockage en ligne \n",
    "EmployeeID, Name, Department, Position, Salary, Hire Date\n",
    "1, John Doe, Marketing, Manager, 50000, 2018-06-01\n",
    "2, Jane Smith, Sales, Sales Representative, 40000, 2019-05-23\n",
    "3, Emily Johnson, IT, Software Developer, 60000, 2017-03-15\n",
    "... (and so on)\n",
    "\n",
    "#Stockage en colonne \n",
    "EmployeeID: 1, 2, 3, ...\n",
    "Name: John Doe, Jane Smith, Emily Johnson, ...\n",
    "Department: Marketing, Sales, IT, ...\n",
    "Position: Manager, Sales Representative, Software Developer, ...\n",
    "Salary: 50000, 40000, 60000, ...\n",
    "Hire Date: 2018-06-01, 2019-05-23, 2017-03-15, ...\n"
   ]
  },
  {
   "cell_type": "code",
   "execution_count": 10,
   "id": "13c78c4e-ab4c-4d3d-8ab0-b4f2b76b9989",
   "metadata": {},
   "outputs": [],
   "source": [
    "import pandas as pd \n",
    "import polars as pl"
   ]
  },
  {
   "cell_type": "markdown",
   "id": "7ba92517-f2c3-48d6-99e8-7e2475f85d7a",
   "metadata": {},
   "source": [
    "# Sauvegarder un fichier csv en parquet à partir de Pandas"
   ]
  },
  {
   "cell_type": "code",
   "execution_count": 14,
   "id": "8a2274b0-dd6a-4585-be34-68bfc643b784",
   "metadata": {},
   "outputs": [
    {
     "data": {
      "text/html": [
       "<div>\n",
       "<style scoped>\n",
       "    .dataframe tbody tr th:only-of-type {\n",
       "        vertical-align: middle;\n",
       "    }\n",
       "\n",
       "    .dataframe tbody tr th {\n",
       "        vertical-align: top;\n",
       "    }\n",
       "\n",
       "    .dataframe thead th {\n",
       "        text-align: right;\n",
       "    }\n",
       "</style>\n",
       "<table border=\"1\" class=\"dataframe\">\n",
       "  <thead>\n",
       "    <tr style=\"text-align: right;\">\n",
       "      <th></th>\n",
       "      <th>Unnamed: 0</th>\n",
       "      <th>date</th>\n",
       "      <th>true_sentiment</th>\n",
       "      <th>content_cleaned</th>\n",
       "    </tr>\n",
       "  </thead>\n",
       "  <tbody>\n",
       "    <tr>\n",
       "      <th>0</th>\n",
       "      <td>0</td>\n",
       "      <td>2017-05-09T20:32:06Z</td>\n",
       "      <td>1.0</td>\n",
       "      <td>cashtag  I wanna sell some shares to buy me an...</td>\n",
       "    </tr>\n",
       "    <tr>\n",
       "      <th>1</th>\n",
       "      <td>1</td>\n",
       "      <td>2023-02-08T21:31:58Z</td>\n",
       "      <td>1.0</td>\n",
       "      <td>cashtag  Don't forget cashtag  tomorrow, heade...</td>\n",
       "    </tr>\n",
       "    <tr>\n",
       "      <th>2</th>\n",
       "      <td>2</td>\n",
       "      <td>2022-05-13T08:55:11Z</td>\n",
       "      <td>0.0</td>\n",
       "      <td>cashtag  Another fake upside move…   \\nTake pr...</td>\n",
       "    </tr>\n",
       "    <tr>\n",
       "      <th>3</th>\n",
       "      <td>3</td>\n",
       "      <td>2019-09-18T06:02:46Z</td>\n",
       "      <td>1.0</td>\n",
       "      <td>cashtag  iPhone 11 preorder goes well in China</td>\n",
       "    </tr>\n",
       "    <tr>\n",
       "      <th>4</th>\n",
       "      <td>4</td>\n",
       "      <td>2023-06-05T13:57:33Z</td>\n",
       "      <td>0.0</td>\n",
       "      <td>cashtag  cashtag  Headlines and clickbait arti...</td>\n",
       "    </tr>\n",
       "    <tr>\n",
       "      <th>...</th>\n",
       "      <td>...</td>\n",
       "      <td>...</td>\n",
       "      <td>...</td>\n",
       "      <td>...</td>\n",
       "    </tr>\n",
       "    <tr>\n",
       "      <th>249995</th>\n",
       "      <td>249995</td>\n",
       "      <td>2019-08-13T19:38:54Z</td>\n",
       "      <td>1.0</td>\n",
       "      <td>cashtag  damm pls cashtag  pls cashtag  pls ca...</td>\n",
       "    </tr>\n",
       "    <tr>\n",
       "      <th>249996</th>\n",
       "      <td>249996</td>\n",
       "      <td>2013-03-12T18:39:41Z</td>\n",
       "      <td>1.0</td>\n",
       "      <td>cashtag  IDC Jan 31 2013 &amp;quot;iPad accounted ...</td>\n",
       "    </tr>\n",
       "    <tr>\n",
       "      <th>249997</th>\n",
       "      <td>249997</td>\n",
       "      <td>2021-09-02T14:25:34Z</td>\n",
       "      <td>1.0</td>\n",
       "      <td>cashtag  bears are silly!</td>\n",
       "    </tr>\n",
       "    <tr>\n",
       "      <th>249998</th>\n",
       "      <td>249998</td>\n",
       "      <td>2023-11-02T19:59:27Z</td>\n",
       "      <td>0.0</td>\n",
       "      <td>cashtag  just sold the iPhone I just bought fo...</td>\n",
       "    </tr>\n",
       "    <tr>\n",
       "      <th>249999</th>\n",
       "      <td>249999</td>\n",
       "      <td>2022-02-05T05:29:12Z</td>\n",
       "      <td>0.0</td>\n",
       "      <td>cashtag  cashtag  Microsoft is supreme because...</td>\n",
       "    </tr>\n",
       "  </tbody>\n",
       "</table>\n",
       "<p>250000 rows × 4 columns</p>\n",
       "</div>"
      ],
      "text/plain": [
       "        Unnamed: 0                  date  true_sentiment  \\\n",
       "0                0  2017-05-09T20:32:06Z             1.0   \n",
       "1                1  2023-02-08T21:31:58Z             1.0   \n",
       "2                2  2022-05-13T08:55:11Z             0.0   \n",
       "3                3  2019-09-18T06:02:46Z             1.0   \n",
       "4                4  2023-06-05T13:57:33Z             0.0   \n",
       "...            ...                   ...             ...   \n",
       "249995      249995  2019-08-13T19:38:54Z             1.0   \n",
       "249996      249996  2013-03-12T18:39:41Z             1.0   \n",
       "249997      249997  2021-09-02T14:25:34Z             1.0   \n",
       "249998      249998  2023-11-02T19:59:27Z             0.0   \n",
       "249999      249999  2022-02-05T05:29:12Z             0.0   \n",
       "\n",
       "                                          content_cleaned  \n",
       "0       cashtag  I wanna sell some shares to buy me an...  \n",
       "1       cashtag  Don't forget cashtag  tomorrow, heade...  \n",
       "2       cashtag  Another fake upside move…   \\nTake pr...  \n",
       "3          cashtag  iPhone 11 preorder goes well in China  \n",
       "4       cashtag  cashtag  Headlines and clickbait arti...  \n",
       "...                                                   ...  \n",
       "249995  cashtag  damm pls cashtag  pls cashtag  pls ca...  \n",
       "249996  cashtag  IDC Jan 31 2013 &quot;iPad accounted ...  \n",
       "249997                          cashtag  bears are silly!  \n",
       "249998  cashtag  just sold the iPhone I just bought fo...  \n",
       "249999  cashtag  cashtag  Microsoft is supreme because...  \n",
       "\n",
       "[250000 rows x 4 columns]"
      ]
     },
     "execution_count": 14,
     "metadata": {},
     "output_type": "execute_result"
    }
   ],
   "source": [
    "df = pd.read_csv('data/tweets.csv')\n",
    "df"
   ]
  },
  {
   "cell_type": "code",
   "execution_count": 16,
   "id": "8548f359-6929-47ca-a499-fd37b21c56ab",
   "metadata": {},
   "outputs": [],
   "source": [
    "df.to_parquet('data/tweets.parquet.gzip', compression ='gzip')"
   ]
  },
  {
   "cell_type": "markdown",
   "id": "0db64fab-7b4f-4980-aea5-9f08fc009d02",
   "metadata": {},
   "source": [
    "# La lecture de fichiers "
   ]
  },
  {
   "cell_type": "code",
   "execution_count": 17,
   "id": "67124511-36e6-4eb5-8ab3-11ebdd90d06b",
   "metadata": {},
   "outputs": [],
   "source": [
    "data = pl.read_parquet('data/tweets.parquet.gzip')"
   ]
  },
  {
   "cell_type": "code",
   "execution_count": 19,
   "id": "42f7fdd1-bedf-4d0e-adf5-002961010546",
   "metadata": {},
   "outputs": [
    {
     "data": {
      "text/html": [
       "<div><style>\n",
       ".dataframe > thead > tr,\n",
       ".dataframe > tbody > tr {\n",
       "  text-align: right;\n",
       "  white-space: pre-wrap;\n",
       "}\n",
       "</style>\n",
       "<small>shape: (9, 5)</small><table border=\"1\" class=\"dataframe\"><thead><tr><th>statistic</th><th>Unnamed: 0</th><th>date</th><th>true_sentiment</th><th>content_cleaned</th></tr><tr><td>str</td><td>f64</td><td>str</td><td>f64</td><td>str</td></tr></thead><tbody><tr><td>&quot;count&quot;</td><td>250000.0</td><td>&quot;250000&quot;</td><td>250000.0</td><td>&quot;250000&quot;</td></tr><tr><td>&quot;null_count&quot;</td><td>0.0</td><td>&quot;0&quot;</td><td>0.0</td><td>&quot;0&quot;</td></tr><tr><td>&quot;mean&quot;</td><td>124999.5</td><td>null</td><td>0.5</td><td>null</td></tr><tr><td>&quot;std&quot;</td><td>72168.927986</td><td>null</td><td>0.500001</td><td>null</td></tr><tr><td>&quot;min&quot;</td><td>0.0</td><td>&quot;2010-07-13T00:…</td><td>0.0</td><td>&quot;  Buy more cas…</td></tr><tr><td>&quot;25%&quot;</td><td>62500.0</td><td>null</td><td>0.0</td><td>null</td></tr><tr><td>&quot;50%&quot;</td><td>125000.0</td><td>null</td><td>1.0</td><td>null</td></tr><tr><td>&quot;75%&quot;</td><td>187499.0</td><td>null</td><td>1.0</td><td>null</td></tr><tr><td>&quot;max&quot;</td><td>249999.0</td><td>&quot;2024-04-26T15:…</td><td>1.0</td><td>&quot;🧛 #Dread REPOR…</td></tr></tbody></table></div>"
      ],
      "text/plain": [
       "shape: (9, 5)\n",
       "┌────────────┬──────────────┬──────────────────────┬────────────────┬───────────────────────────────────┐\n",
       "│ statistic  ┆ Unnamed: 0   ┆ date                 ┆ true_sentiment ┆ content_cleaned                   │\n",
       "│ ---        ┆ ---          ┆ ---                  ┆ ---            ┆ ---                               │\n",
       "│ str        ┆ f64          ┆ str                  ┆ f64            ┆ str                               │\n",
       "╞════════════╪══════════════╪══════════════════════╪════════════════╪═══════════════════════════════════╡\n",
       "│ count      ┆ 250000.0     ┆ 250000               ┆ 250000.0       ┆ 250000                            │\n",
       "│ null_count ┆ 0.0          ┆ 0                    ┆ 0.0            ┆ 0                                 │\n",
       "│ mean       ┆ 124999.5     ┆ null                 ┆ 0.5            ┆ null                              │\n",
       "│ std        ┆ 72168.927986 ┆ null                 ┆ 0.500001       ┆ null                              │\n",
       "│ min        ┆ 0.0          ┆ 2010-07-13T00:57:48Z ┆ 0.0            ┆   Buy more cashtag  and you will… │\n",
       "│ 25%        ┆ 62500.0      ┆ null                 ┆ 0.0            ┆ null                              │\n",
       "│ 50%        ┆ 125000.0     ┆ null                 ┆ 1.0            ┆ null                              │\n",
       "│ 75%        ┆ 187499.0     ┆ null                 ┆ 1.0            ┆ null                              │\n",
       "│ max        ┆ 249999.0     ┆ 2024-04-26T15:17:06Z ┆ 1.0            ┆ 🧛 #Dread REPORT IS READY         │\n",
       "│            ┆              ┆                      ┆                ┆ * VERI…                           │\n",
       "└────────────┴──────────────┴──────────────────────┴────────────────┴───────────────────────────────────┘"
      ]
     },
     "execution_count": 19,
     "metadata": {},
     "output_type": "execute_result"
    }
   ],
   "source": [
    "data.describe()"
   ]
  },
  {
   "cell_type": "code",
   "execution_count": 25,
   "id": "9ba1debf-ec6c-4843-b795-5ec7ff6248df",
   "metadata": {},
   "outputs": [
    {
     "data": {
      "text/plain": [
       "Unnamed: 0         0\n",
       "date               0\n",
       "true_sentiment     0\n",
       "content_cleaned    0\n",
       "dtype: int64"
      ]
     },
     "execution_count": 25,
     "metadata": {},
     "output_type": "execute_result"
    }
   ],
   "source": [
    "df.isna().sum()"
   ]
  },
  {
   "cell_type": "code",
   "execution_count": 26,
   "id": "e20a3106-4dd3-46d4-861b-7eec2aeee288",
   "metadata": {},
   "outputs": [
    {
     "data": {
      "text/html": [
       "<div><style>\n",
       ".dataframe > thead > tr,\n",
       ".dataframe > tbody > tr {\n",
       "  text-align: right;\n",
       "  white-space: pre-wrap;\n",
       "}\n",
       "</style>\n",
       "<small>shape: (1, 4)</small><table border=\"1\" class=\"dataframe\"><thead><tr><th>Unnamed: 0</th><th>date</th><th>true_sentiment</th><th>content_cleaned</th></tr><tr><td>u32</td><td>u32</td><td>u32</td><td>u32</td></tr></thead><tbody><tr><td>0</td><td>0</td><td>0</td><td>0</td></tr></tbody></table></div>"
      ],
      "text/plain": [
       "shape: (1, 4)\n",
       "┌────────────┬──────┬────────────────┬─────────────────┐\n",
       "│ Unnamed: 0 ┆ date ┆ true_sentiment ┆ content_cleaned │\n",
       "│ ---        ┆ ---  ┆ ---            ┆ ---             │\n",
       "│ u32        ┆ u32  ┆ u32            ┆ u32             │\n",
       "╞════════════╪══════╪════════════════╪═════════════════╡\n",
       "│ 0          ┆ 0    ┆ 0              ┆ 0               │\n",
       "└────────────┴──────┴────────────────┴─────────────────┘"
      ]
     },
     "execution_count": 26,
     "metadata": {},
     "output_type": "execute_result"
    }
   ],
   "source": [
    "data.null_count()"
   ]
  },
  {
   "cell_type": "code",
   "execution_count": 27,
   "id": "0e22be19-d6e7-43e0-8462-35ec8c5c3b93",
   "metadata": {},
   "outputs": [
    {
     "data": {
      "text/plain": [
       "250000"
      ]
     },
     "execution_count": 27,
     "metadata": {},
     "output_type": "execute_result"
    }
   ],
   "source": [
    "data.n_unique()"
   ]
  },
  {
   "cell_type": "code",
   "execution_count": null,
   "id": "1a2d64d2-55f9-4f45-9da3-d176640f3457",
   "metadata": {},
   "outputs": [],
   "source": []
  }
 ],
 "metadata": {
  "kernelspec": {
   "display_name": "cfm",
   "language": "python",
   "name": "cfm"
  },
  "language_info": {
   "codemirror_mode": {
    "name": "ipython",
    "version": 3
   },
   "file_extension": ".py",
   "mimetype": "text/x-python",
   "name": "python",
   "nbconvert_exporter": "python",
   "pygments_lexer": "ipython3",
   "version": "3.9.18"
  }
 },
 "nbformat": 4,
 "nbformat_minor": 5
}
