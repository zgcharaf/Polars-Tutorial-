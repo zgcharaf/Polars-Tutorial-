{
 "cells": [
  {
   "cell_type": "markdown",
   "id": "13bf553e-bd7f-4898-9753-f91ce836bcce",
   "metadata": {},
   "source": [
    "# Polars Tuto 2"
   ]
  },
  {
   "cell_type": "markdown",
   "id": "41f07df9-c93f-41b7-8b00-ebfde0a6e690",
   "metadata": {},
   "source": [
    "## Lire le dataframe parquet "
   ]
  },
  {
   "cell_type": "code",
   "execution_count": 20,
   "id": "0feebe52-6921-4377-b923-914b378711d8",
   "metadata": {},
   "outputs": [],
   "source": [
    "import polars as pl \n",
    "import pandas as pd\n",
    "import sys \n",
    "df = pl.read_parquet('data/tweets.parquet.gzip')\n",
    "df_pd = pd.read_csv('data/tweets.csv')"
   ]
  },
  {
   "cell_type": "markdown",
   "id": "97660cbe-a081-4885-8b5a-c36d66edd025",
   "metadata": {},
   "source": [
    "#### La taille en mémoire du dataframe"
   ]
  },
  {
   "cell_type": "code",
   "execution_count": 6,
   "id": "736e2585-b1a4-40e9-841b-349374144c6f",
   "metadata": {},
   "outputs": [
    {
     "data": {
      "text/plain": [
       "4.57763671875e-05"
      ]
     },
     "execution_count": 6,
     "metadata": {},
     "output_type": "execute_result"
    }
   ],
   "source": [
    "sys.getsizeof(df)/1024**2 # en PL"
   ]
  },
  {
   "cell_type": "code",
   "execution_count": 22,
   "id": "b274695b-1b5f-4b5c-888b-c148e5f95aa7",
   "metadata": {},
   "outputs": [
    {
     "data": {
      "text/plain": [
       "73.74482822418213"
      ]
     },
     "execution_count": 22,
     "metadata": {},
     "output_type": "execute_result"
    }
   ],
   "source": [
    "sys.getsizeof(df_pd)/1024**2 # en PD"
   ]
  },
  {
   "cell_type": "markdown",
   "id": "73913005-45cb-4e39-b8e8-6bc00453e4b7",
   "metadata": {},
   "source": [
    "#### Création d'une nouvelle colonne "
   ]
  },
  {
   "cell_type": "code",
   "execution_count": 9,
   "id": "5d10fe22-a7ed-4cbe-b288-6e2cfdf3b628",
   "metadata": {},
   "outputs": [
    {
     "data": {
      "text/plain": [
       "['Unnamed: 0', 'date', 'true_sentiment', 'content_cleaned']"
      ]
     },
     "execution_count": 9,
     "metadata": {},
     "output_type": "execute_result"
    }
   ],
   "source": [
    "df.columns"
   ]
  },
  {
   "cell_type": "code",
   "execution_count": null,
   "id": "cf79edf3-0dde-4785-99d0-79991fefd7ce",
   "metadata": {},
   "outputs": [],
   "source": []
  },
  {
   "cell_type": "markdown",
   "id": "50441434-0da3-4a0e-b4f9-079e99d008ea",
   "metadata": {},
   "source": [
    "#### Sélection de colonnes "
   ]
  },
  {
   "cell_type": "code",
   "execution_count": 13,
   "id": "1a1e14a0-48dc-4ac3-be03-ad2e5cc9d2d1",
   "metadata": {},
   "outputs": [],
   "source": [
    "df_filtered_pd = df_pd[['true_sentiment', 'content_cleaned']]#PD\n",
    "\n",
    "df_filtered_pl = df.select(pl.col('true_sentiment'), pl.col('content_cleaned'))#PL"
   ]
  },
  {
   "cell_type": "code",
   "execution_count": 23,
   "id": "bf484955-4982-43b8-9d90-8305984bb77a",
   "metadata": {},
   "outputs": [
    {
     "data": {
      "text/html": [
       "<div><style>\n",
       ".dataframe > thead > tr,\n",
       ".dataframe > tbody > tr {\n",
       "  text-align: right;\n",
       "  white-space: pre-wrap;\n",
       "}\n",
       "</style>\n",
       "<small>shape: (250_000, 2)</small><table border=\"1\" class=\"dataframe\"><thead><tr><th>true_sentiment</th><th>content_cleaned</th></tr><tr><td>f64</td><td>str</td></tr></thead><tbody><tr><td>1.0</td><td>&quot;cashtag  I wan…</td></tr><tr><td>1.0</td><td>&quot;cashtag  Don&#x27;t…</td></tr><tr><td>0.0</td><td>&quot;cashtag  Anoth…</td></tr><tr><td>1.0</td><td>&quot;cashtag  iPhon…</td></tr><tr><td>0.0</td><td>&quot;cashtag  casht…</td></tr><tr><td>&hellip;</td><td>&hellip;</td></tr><tr><td>1.0</td><td>&quot;cashtag  damm …</td></tr><tr><td>1.0</td><td>&quot;cashtag  IDC J…</td></tr><tr><td>1.0</td><td>&quot;cashtag  bears…</td></tr><tr><td>0.0</td><td>&quot;cashtag  just …</td></tr><tr><td>0.0</td><td>&quot;cashtag  casht…</td></tr></tbody></table></div>"
      ],
      "text/plain": [
       "shape: (250_000, 2)\n",
       "┌────────────────┬───────────────────────────────────┐\n",
       "│ true_sentiment ┆ content_cleaned                   │\n",
       "│ ---            ┆ ---                               │\n",
       "│ f64            ┆ str                               │\n",
       "╞════════════════╪═══════════════════════════════════╡\n",
       "│ 1.0            ┆ cashtag  I wanna sell some share… │\n",
       "│ 1.0            ┆ cashtag  Don't forget cashtag  t… │\n",
       "│ 0.0            ┆ cashtag  Another fake upside mov… │\n",
       "│ 1.0            ┆ cashtag  iPhone 11 preorder goes… │\n",
       "│ 0.0            ┆ cashtag  cashtag  Headlines and … │\n",
       "│ …              ┆ …                                 │\n",
       "│ 1.0            ┆ cashtag  damm pls cashtag  pls c… │\n",
       "│ 1.0            ┆ cashtag  IDC Jan 31 2013 &quot;i… │\n",
       "│ 1.0            ┆ cashtag  bears are silly!         │\n",
       "│ 0.0            ┆ cashtag  just sold the iPhone I … │\n",
       "│ 0.0            ┆ cashtag  cashtag  Microsoft is s… │\n",
       "└────────────────┴───────────────────────────────────┘"
      ]
     },
     "execution_count": 23,
     "metadata": {},
     "output_type": "execute_result"
    }
   ],
   "source": [
    "df_filtered_pd"
   ]
  },
  {
   "cell_type": "markdown",
   "id": "366ba220-7d16-47e4-a9a1-1bd8369308da",
   "metadata": {},
   "source": [
    "####  Filtrer des colonnes "
   ]
  },
  {
   "cell_type": "code",
   "execution_count": 29,
   "id": "cf6eb738-4f3e-4f98-bf98-63c81cb65d47",
   "metadata": {},
   "outputs": [
    {
     "data": {
      "text/html": [
       "<div>\n",
       "<style scoped>\n",
       "    .dataframe tbody tr th:only-of-type {\n",
       "        vertical-align: middle;\n",
       "    }\n",
       "\n",
       "    .dataframe tbody tr th {\n",
       "        vertical-align: top;\n",
       "    }\n",
       "\n",
       "    .dataframe thead th {\n",
       "        text-align: right;\n",
       "    }\n",
       "</style>\n",
       "<table border=\"1\" class=\"dataframe\">\n",
       "  <thead>\n",
       "    <tr style=\"text-align: right;\">\n",
       "      <th></th>\n",
       "      <th>Unnamed: 0</th>\n",
       "      <th>date</th>\n",
       "      <th>true_sentiment</th>\n",
       "      <th>content_cleaned</th>\n",
       "    </tr>\n",
       "  </thead>\n",
       "  <tbody>\n",
       "    <tr>\n",
       "      <th>0</th>\n",
       "      <td>0</td>\n",
       "      <td>2017-05-09T20:32:06Z</td>\n",
       "      <td>1.0</td>\n",
       "      <td>cashtag  I wanna sell some shares to buy me an...</td>\n",
       "    </tr>\n",
       "    <tr>\n",
       "      <th>1</th>\n",
       "      <td>1</td>\n",
       "      <td>2023-02-08T21:31:58Z</td>\n",
       "      <td>1.0</td>\n",
       "      <td>cashtag  Don't forget cashtag  tomorrow, heade...</td>\n",
       "    </tr>\n",
       "  </tbody>\n",
       "</table>\n",
       "</div>"
      ],
      "text/plain": [
       "   Unnamed: 0                  date  true_sentiment  \\\n",
       "0           0  2017-05-09T20:32:06Z             1.0   \n",
       "1           1  2023-02-08T21:31:58Z             1.0   \n",
       "\n",
       "                                     content_cleaned  \n",
       "0  cashtag  I wanna sell some shares to buy me an...  \n",
       "1  cashtag  Don't forget cashtag  tomorrow, heade...  "
      ]
     },
     "execution_count": 29,
     "metadata": {},
     "output_type": "execute_result"
    }
   ],
   "source": [
    "df_filtered_pd = df_pd[df_pd['true_sentiment'] == 1.0]\n",
    "df_filtered_pd.head(2)"
   ]
  },
  {
   "cell_type": "code",
   "execution_count": 44,
   "id": "d63bc64a-ee2b-4552-99c4-c74765c5f4cf",
   "metadata": {},
   "outputs": [
    {
     "data": {
      "text/html": [
       "<div><style>\n",
       ".dataframe > thead > tr,\n",
       ".dataframe > tbody > tr {\n",
       "  text-align: right;\n",
       "  white-space: pre-wrap;\n",
       "}\n",
       "</style>\n",
       "<small>shape: (2, 4)</small><table border=\"1\" class=\"dataframe\"><thead><tr><th>Unnamed: 0</th><th>date</th><th>true_sentiment</th><th>content_cleaned</th></tr><tr><td>i64</td><td>str</td><td>i8</td><td>str</td></tr></thead><tbody><tr><td>0</td><td>&quot;2017-05-09T20:…</td><td>1</td><td>&quot;cashtag  I wan…</td></tr><tr><td>1</td><td>&quot;2023-02-08T21:…</td><td>1</td><td>&quot;cashtag  Don&#x27;t…</td></tr></tbody></table></div>"
      ],
      "text/plain": [
       "shape: (2, 4)\n",
       "┌────────────┬──────────────────────┬────────────────┬───────────────────────────────────┐\n",
       "│ Unnamed: 0 ┆ date                 ┆ true_sentiment ┆ content_cleaned                   │\n",
       "│ ---        ┆ ---                  ┆ ---            ┆ ---                               │\n",
       "│ i64        ┆ str                  ┆ i8             ┆ str                               │\n",
       "╞════════════╪══════════════════════╪════════════════╪═══════════════════════════════════╡\n",
       "│ 0          ┆ 2017-05-09T20:32:06Z ┆ 1              ┆ cashtag  I wanna sell some share… │\n",
       "│ 1          ┆ 2023-02-08T21:31:58Z ┆ 1              ┆ cashtag  Don't forget cashtag  t… │\n",
       "└────────────┴──────────────────────┴────────────────┴───────────────────────────────────┘"
      ]
     },
     "execution_count": 44,
     "metadata": {},
     "output_type": "execute_result"
    }
   ],
   "source": [
    "df_filtered_pd = df.filter(pl.col('true_sentiment')==1)\n",
    "df_filtered_pd.head(2)"
   ]
  },
  {
   "cell_type": "markdown",
   "id": "12839e14-f124-4051-a5ff-632d65b20425",
   "metadata": {},
   "source": [
    "#### double condition "
   ]
  },
  {
   "cell_type": "code",
   "execution_count": 55,
   "id": "0e68ed90-1dce-4b41-a4f5-df058c81eab4",
   "metadata": {},
   "outputs": [
    {
     "data": {
      "text/plain": [
       "(61, 4)"
      ]
     },
     "execution_count": 55,
     "metadata": {},
     "output_type": "execute_result"
    }
   ],
   "source": [
    "df_filtered = df.filter(\n",
    "    (pl.col('true_sentiment') == 1) & \n",
    "    (pl.col('content_cleaned').str.contains('Bad'))\n",
    ")\n",
    "df_filtered.shape"
   ]
  },
  {
   "cell_type": "markdown",
   "id": "909da1c5-196e-4da4-bf46-c36e81f267ec",
   "metadata": {},
   "source": [
    "#### Changement de type de variable "
   ]
  },
  {
   "cell_type": "code",
   "execution_count": 40,
   "id": "ebacd3a1-0b28-4ba5-a0df-8f1482f304fe",
   "metadata": {},
   "outputs": [
    {
     "data": {
      "text/html": [
       "<div>\n",
       "<style scoped>\n",
       "    .dataframe tbody tr th:only-of-type {\n",
       "        vertical-align: middle;\n",
       "    }\n",
       "\n",
       "    .dataframe tbody tr th {\n",
       "        vertical-align: top;\n",
       "    }\n",
       "\n",
       "    .dataframe thead th {\n",
       "        text-align: right;\n",
       "    }\n",
       "</style>\n",
       "<table border=\"1\" class=\"dataframe\">\n",
       "  <thead>\n",
       "    <tr style=\"text-align: right;\">\n",
       "      <th></th>\n",
       "      <th>Unnamed: 0</th>\n",
       "      <th>date</th>\n",
       "      <th>true_sentiment</th>\n",
       "      <th>content_cleaned</th>\n",
       "    </tr>\n",
       "  </thead>\n",
       "  <tbody>\n",
       "    <tr>\n",
       "      <th>0</th>\n",
       "      <td>0</td>\n",
       "      <td>2017-05-09T20:32:06Z</td>\n",
       "      <td>1</td>\n",
       "      <td>cashtag  I wanna sell some shares to buy me an...</td>\n",
       "    </tr>\n",
       "    <tr>\n",
       "      <th>1</th>\n",
       "      <td>1</td>\n",
       "      <td>2023-02-08T21:31:58Z</td>\n",
       "      <td>1</td>\n",
       "      <td>cashtag  Don't forget cashtag  tomorrow, heade...</td>\n",
       "    </tr>\n",
       "  </tbody>\n",
       "</table>\n",
       "</div>"
      ],
      "text/plain": [
       "   Unnamed: 0                  date  true_sentiment  \\\n",
       "0           0  2017-05-09T20:32:06Z               1   \n",
       "1           1  2023-02-08T21:31:58Z               1   \n",
       "\n",
       "                                     content_cleaned  \n",
       "0  cashtag  I wanna sell some shares to buy me an...  \n",
       "1  cashtag  Don't forget cashtag  tomorrow, heade...  "
      ]
     },
     "execution_count": 40,
     "metadata": {},
     "output_type": "execute_result"
    }
   ],
   "source": [
    "df_pd['true_sentiment'] = df_pd['true_sentiment'].astype('int')\n",
    "df_pd.head(2)"
   ]
  },
  {
   "cell_type": "code",
   "execution_count": 41,
   "id": "9fe2a925-f7c2-4bcd-a6d2-463985cf04d7",
   "metadata": {},
   "outputs": [
    {
     "data": {
      "text/html": [
       "<div><style>\n",
       ".dataframe > thead > tr,\n",
       ".dataframe > tbody > tr {\n",
       "  text-align: right;\n",
       "  white-space: pre-wrap;\n",
       "}\n",
       "</style>\n",
       "<small>shape: (2, 4)</small><table border=\"1\" class=\"dataframe\"><thead><tr><th>Unnamed: 0</th><th>date</th><th>true_sentiment</th><th>content_cleaned</th></tr><tr><td>i64</td><td>str</td><td>i8</td><td>str</td></tr></thead><tbody><tr><td>0</td><td>&quot;2017-05-09T20:…</td><td>1</td><td>&quot;cashtag  I wan…</td></tr><tr><td>1</td><td>&quot;2023-02-08T21:…</td><td>1</td><td>&quot;cashtag  Don&#x27;t…</td></tr></tbody></table></div>"
      ],
      "text/plain": [
       "shape: (2, 4)\n",
       "┌────────────┬──────────────────────┬────────────────┬───────────────────────────────────┐\n",
       "│ Unnamed: 0 ┆ date                 ┆ true_sentiment ┆ content_cleaned                   │\n",
       "│ ---        ┆ ---                  ┆ ---            ┆ ---                               │\n",
       "│ i64        ┆ str                  ┆ i8             ┆ str                               │\n",
       "╞════════════╪══════════════════════╪════════════════╪═══════════════════════════════════╡\n",
       "│ 0          ┆ 2017-05-09T20:32:06Z ┆ 1              ┆ cashtag  I wanna sell some share… │\n",
       "│ 1          ┆ 2023-02-08T21:31:58Z ┆ 1              ┆ cashtag  Don't forget cashtag  t… │\n",
       "└────────────┴──────────────────────┴────────────────┴───────────────────────────────────┘"
      ]
     },
     "execution_count": 41,
     "metadata": {},
     "output_type": "execute_result"
    }
   ],
   "source": [
    "df = df.with_columns(pl.col('true_sentiment').cast(pl.Int8))\n",
    "df.head(2)"
   ]
  },
  {
   "cell_type": "code",
   "execution_count": 38,
   "id": "1b89a9db-257c-4d02-967d-742719c7df10",
   "metadata": {},
   "outputs": [
    {
     "data": {
      "text/html": [
       "<div><style>\n",
       ".dataframe > thead > tr,\n",
       ".dataframe > tbody > tr {\n",
       "  text-align: right;\n",
       "  white-space: pre-wrap;\n",
       "}\n",
       "</style>\n",
       "<small>shape: (250_000, 4)</small><table border=\"1\" class=\"dataframe\"><thead><tr><th>Unnamed: 0</th><th>date</th><th>true_sentiment</th><th>content_cleaned</th></tr><tr><td>i64</td><td>str</td><td>i8</td><td>str</td></tr></thead><tbody><tr><td>0</td><td>&quot;2017-05-09T20:…</td><td>1</td><td>&quot;cashtag  I wan…</td></tr><tr><td>1</td><td>&quot;2023-02-08T21:…</td><td>1</td><td>&quot;cashtag  Don&#x27;t…</td></tr><tr><td>2</td><td>&quot;2022-05-13T08:…</td><td>0</td><td>&quot;cashtag  Anoth…</td></tr><tr><td>3</td><td>&quot;2019-09-18T06:…</td><td>1</td><td>&quot;cashtag  iPhon…</td></tr><tr><td>4</td><td>&quot;2023-06-05T13:…</td><td>0</td><td>&quot;cashtag  casht…</td></tr><tr><td>&hellip;</td><td>&hellip;</td><td>&hellip;</td><td>&hellip;</td></tr><tr><td>249995</td><td>&quot;2019-08-13T19:…</td><td>1</td><td>&quot;cashtag  damm …</td></tr><tr><td>249996</td><td>&quot;2013-03-12T18:…</td><td>1</td><td>&quot;cashtag  IDC J…</td></tr><tr><td>249997</td><td>&quot;2021-09-02T14:…</td><td>1</td><td>&quot;cashtag  bears…</td></tr><tr><td>249998</td><td>&quot;2023-11-02T19:…</td><td>0</td><td>&quot;cashtag  just …</td></tr><tr><td>249999</td><td>&quot;2022-02-05T05:…</td><td>0</td><td>&quot;cashtag  casht…</td></tr></tbody></table></div>"
      ],
      "text/plain": [
       "shape: (250_000, 4)\n",
       "┌────────────┬──────────────────────┬────────────────┬───────────────────────────────────┐\n",
       "│ Unnamed: 0 ┆ date                 ┆ true_sentiment ┆ content_cleaned                   │\n",
       "│ ---        ┆ ---                  ┆ ---            ┆ ---                               │\n",
       "│ i64        ┆ str                  ┆ i8             ┆ str                               │\n",
       "╞════════════╪══════════════════════╪════════════════╪═══════════════════════════════════╡\n",
       "│ 0          ┆ 2017-05-09T20:32:06Z ┆ 1              ┆ cashtag  I wanna sell some share… │\n",
       "│ 1          ┆ 2023-02-08T21:31:58Z ┆ 1              ┆ cashtag  Don't forget cashtag  t… │\n",
       "│ 2          ┆ 2022-05-13T08:55:11Z ┆ 0              ┆ cashtag  Another fake upside mov… │\n",
       "│ 3          ┆ 2019-09-18T06:02:46Z ┆ 1              ┆ cashtag  iPhone 11 preorder goes… │\n",
       "│ 4          ┆ 2023-06-05T13:57:33Z ┆ 0              ┆ cashtag  cashtag  Headlines and … │\n",
       "│ …          ┆ …                    ┆ …              ┆ …                                 │\n",
       "│ 249995     ┆ 2019-08-13T19:38:54Z ┆ 1              ┆ cashtag  damm pls cashtag  pls c… │\n",
       "│ 249996     ┆ 2013-03-12T18:39:41Z ┆ 1              ┆ cashtag  IDC Jan 31 2013 &quot;i… │\n",
       "│ 249997     ┆ 2021-09-02T14:25:34Z ┆ 1              ┆ cashtag  bears are silly!         │\n",
       "│ 249998     ┆ 2023-11-02T19:59:27Z ┆ 0              ┆ cashtag  just sold the iPhone I … │\n",
       "│ 249999     ┆ 2022-02-05T05:29:12Z ┆ 0              ┆ cashtag  cashtag  Microsoft is s… │\n",
       "└────────────┴──────────────────────┴────────────────┴───────────────────────────────────┘"
      ]
     },
     "execution_count": 38,
     "metadata": {},
     "output_type": "execute_result"
    }
   ],
   "source": []
  },
  {
   "cell_type": "markdown",
   "id": "80721160-acc5-426a-a378-0b909ce83ee4",
   "metadata": {},
   "source": [
    "#### Comment faire un value_counts()? "
   ]
  },
  {
   "cell_type": "code",
   "execution_count": 58,
   "id": "b1672c07-62b0-4a9a-80bc-6434631a9ad4",
   "metadata": {},
   "outputs": [
    {
     "data": {
      "text/plain": [
       "true_sentiment\n",
       "1    125000\n",
       "0    125000\n",
       "Name: count, dtype: int64"
      ]
     },
     "execution_count": 58,
     "metadata": {},
     "output_type": "execute_result"
    }
   ],
   "source": [
    "df_pd['true_sentiment'].value_counts()"
   ]
  },
  {
   "cell_type": "code",
   "execution_count": 59,
   "id": "ebbbd7db-3854-417a-a0dd-f736a4e102d1",
   "metadata": {},
   "outputs": [
    {
     "data": {
      "text/html": [
       "<div><style>\n",
       ".dataframe > thead > tr,\n",
       ".dataframe > tbody > tr {\n",
       "  text-align: right;\n",
       "  white-space: pre-wrap;\n",
       "}\n",
       "</style>\n",
       "<small>shape: (2, 2)</small><table border=\"1\" class=\"dataframe\"><thead><tr><th>true_sentiment</th><th>count</th></tr><tr><td>i8</td><td>u32</td></tr></thead><tbody><tr><td>0</td><td>125000</td></tr><tr><td>1</td><td>125000</td></tr></tbody></table></div>"
      ],
      "text/plain": [
       "shape: (2, 2)\n",
       "┌────────────────┬────────┐\n",
       "│ true_sentiment ┆ count  │\n",
       "│ ---            ┆ ---    │\n",
       "│ i8             ┆ u32    │\n",
       "╞════════════════╪════════╡\n",
       "│ 0              ┆ 125000 │\n",
       "│ 1              ┆ 125000 │\n",
       "└────────────────┴────────┘"
      ]
     },
     "execution_count": 59,
     "metadata": {},
     "output_type": "execute_result"
    }
   ],
   "source": [
    "df['true_sentiment'].value_counts()"
   ]
  },
  {
   "cell_type": "markdown",
   "id": "93db4ef1-93d2-4dd2-91bc-70d15a68f438",
   "metadata": {},
   "source": [
    "#### Supprimer une colonne "
   ]
  },
  {
   "cell_type": "code",
   "execution_count": 66,
   "id": "8eabdf9b-b3ba-44ff-a52f-ec290e1c7912",
   "metadata": {},
   "outputs": [
    {
     "data": {
      "text/html": [
       "<div>\n",
       "<style scoped>\n",
       "    .dataframe tbody tr th:only-of-type {\n",
       "        vertical-align: middle;\n",
       "    }\n",
       "\n",
       "    .dataframe tbody tr th {\n",
       "        vertical-align: top;\n",
       "    }\n",
       "\n",
       "    .dataframe thead th {\n",
       "        text-align: right;\n",
       "    }\n",
       "</style>\n",
       "<table border=\"1\" class=\"dataframe\">\n",
       "  <thead>\n",
       "    <tr style=\"text-align: right;\">\n",
       "      <th></th>\n",
       "      <th>date</th>\n",
       "      <th>true_sentiment</th>\n",
       "      <th>content_cleaned</th>\n",
       "    </tr>\n",
       "  </thead>\n",
       "  <tbody>\n",
       "    <tr>\n",
       "      <th>0</th>\n",
       "      <td>2017-05-09T20:32:06Z</td>\n",
       "      <td>1</td>\n",
       "      <td>cashtag  I wanna sell some shares to buy me an...</td>\n",
       "    </tr>\n",
       "    <tr>\n",
       "      <th>1</th>\n",
       "      <td>2023-02-08T21:31:58Z</td>\n",
       "      <td>1</td>\n",
       "      <td>cashtag  Don't forget cashtag  tomorrow, heade...</td>\n",
       "    </tr>\n",
       "  </tbody>\n",
       "</table>\n",
       "</div>"
      ],
      "text/plain": [
       "                   date  true_sentiment  \\\n",
       "0  2017-05-09T20:32:06Z               1   \n",
       "1  2023-02-08T21:31:58Z               1   \n",
       "\n",
       "                                     content_cleaned  \n",
       "0  cashtag  I wanna sell some shares to buy me an...  \n",
       "1  cashtag  Don't forget cashtag  tomorrow, heade...  "
      ]
     },
     "execution_count": 66,
     "metadata": {},
     "output_type": "execute_result"
    }
   ],
   "source": [
    "df_pd_dropped = df_pd.drop('Unnamed: 0', axis=1)\n",
    "df_pd_dropped.head(2)"
   ]
  },
  {
   "cell_type": "code",
   "execution_count": 68,
   "id": "503dc4cd-59ba-4ee7-853c-6a8091810716",
   "metadata": {},
   "outputs": [
    {
     "data": {
      "text/html": [
       "<div><style>\n",
       ".dataframe > thead > tr,\n",
       ".dataframe > tbody > tr {\n",
       "  text-align: right;\n",
       "  white-space: pre-wrap;\n",
       "}\n",
       "</style>\n",
       "<small>shape: (2, 3)</small><table border=\"1\" class=\"dataframe\"><thead><tr><th>date</th><th>true_sentiment</th><th>content_cleaned</th></tr><tr><td>str</td><td>i8</td><td>str</td></tr></thead><tbody><tr><td>&quot;2017-05-09T20:…</td><td>1</td><td>&quot;cashtag  I wan…</td></tr><tr><td>&quot;2023-02-08T21:…</td><td>1</td><td>&quot;cashtag  Don&#x27;t…</td></tr></tbody></table></div>"
      ],
      "text/plain": [
       "shape: (2, 3)\n",
       "┌──────────────────────┬────────────────┬───────────────────────────────────┐\n",
       "│ date                 ┆ true_sentiment ┆ content_cleaned                   │\n",
       "│ ---                  ┆ ---            ┆ ---                               │\n",
       "│ str                  ┆ i8             ┆ str                               │\n",
       "╞══════════════════════╪════════════════╪═══════════════════════════════════╡\n",
       "│ 2017-05-09T20:32:06Z ┆ 1              ┆ cashtag  I wanna sell some share… │\n",
       "│ 2023-02-08T21:31:58Z ┆ 1              ┆ cashtag  Don't forget cashtag  t… │\n",
       "└──────────────────────┴────────────────┴───────────────────────────────────┘"
      ]
     },
     "execution_count": 68,
     "metadata": {},
     "output_type": "execute_result"
    }
   ],
   "source": [
    "df_dropped = df.drop('Unnamed: 0')\n",
    "df_dropped.head(2)"
   ]
  },
  {
   "cell_type": "code",
   "execution_count": null,
   "id": "b61cbf1b-83c8-4d6c-a43e-5281fad097ec",
   "metadata": {},
   "outputs": [],
   "source": []
  }
 ],
 "metadata": {
  "kernelspec": {
   "display_name": "cfm",
   "language": "python",
   "name": "cfm"
  },
  "language_info": {
   "codemirror_mode": {
    "name": "ipython",
    "version": 3
   },
   "file_extension": ".py",
   "mimetype": "text/x-python",
   "name": "python",
   "nbconvert_exporter": "python",
   "pygments_lexer": "ipython3",
   "version": "3.9.18"
  }
 },
 "nbformat": 4,
 "nbformat_minor": 5
}
